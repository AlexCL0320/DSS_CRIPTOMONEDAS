{
 "cells": [
  {
   "cell_type": "markdown",
   "id": "48219fe4",
   "metadata": {},
   "source": [
    "CARGAR DIRECCIONES"
   ]
  },
  {
   "cell_type": "code",
   "execution_count": 3,
   "id": "f97a7f89",
   "metadata": {},
   "outputs": [],
   "source": [
    "import pandas as pd\n",
    "\n",
    "# Definimos las rutas de los archivos\n",
    "ruta_bch = 'REGISTROS_ORIGINALES/bch.csv'\n",
    "ruta_bitcoin = 'REGISTROS_ORIGINALES/bitcoin.csv'\n",
    "ruta_bnb = 'REGISTROS_ORIGINALES/bnb.csv'\n",
    "ruta_etherium = 'REGISTROS_ORIGINALES/etherium.csv'\n",
    "ruta_solana = 'REGISTROS_ORIGINALES/solana.csv'\n"
   ]
  },
  {
   "cell_type": "markdown",
   "id": "454d8e67",
   "metadata": {},
   "source": [
    "AGREGAR COLUMNA DE TIPO DE MONEDA"
   ]
  },
  {
   "cell_type": "code",
   "execution_count": 4,
   "id": "3b107f62",
   "metadata": {},
   "outputs": [],
   "source": [
    "def agregar_moneda(ruta_origen, nombre_moneda, nombre_archivo):\n",
    "    df = pd.read_csv(ruta_origen)\n",
    "    df['moneda'] = nombre_moneda\n",
    "    ruta_destino = f'COLUMNA_NOMBRE/{nombre_archivo}'\n",
    "    df.to_csv(ruta_destino, index=False)\n",
    "\n",
    "agregar_moneda(ruta_bch, 'BCH', 'bch.csv')\n",
    "agregar_moneda(ruta_bitcoin, 'Bitcoin', 'bitcoin.csv')\n",
    "agregar_moneda(ruta_bnb, 'BNB', 'bnb.csv')\n",
    "agregar_moneda(ruta_etherium, 'Ethereum', 'etherium.csv')\n",
    "agregar_moneda(ruta_solana, 'Solana', 'solana.csv')"
   ]
  },
  {
   "cell_type": "markdown",
   "id": "684555d8",
   "metadata": {},
   "source": [
    "ESTANDARIZAR NOBRES DE COLUMNAS"
   ]
  },
  {
   "cell_type": "code",
   "execution_count": 5,
   "id": "d3dda83c",
   "metadata": {},
   "outputs": [],
   "source": [
    "nombres_columnas = {\n",
    "    'timestamp': 'fecha_hora',\n",
    "    'open': 'precio_apertura',\n",
    "    'high': 'precio_maximo',\n",
    "    'low': 'precio_minimo',\n",
    "    'close': 'precio_cierre',\n",
    "    'volume': 'volumen'\n",
    "}\n",
    "\n",
    "def estandarizar_nombres_columnas(ruta_origen, nombre_archivo):\n",
    "    # Leer archivo usando pandas\n",
    "    df = pd.read_csv(ruta_origen)\n",
    "    \n",
    "    # Renombrar columnas usando el diccionario\n",
    "    df.rename(columns=nombres_columnas, inplace=True)\n",
    "    \n",
    "    # Ruta para guardar el archivo estandarizado\n",
    "    ruta_destino = f'NOMBRES_ESTANDARIZADOS/{nombre_archivo}'\n",
    "    \n",
    "    # Guardar el archivo en la carpeta nueva\n",
    "    df.to_csv(ruta_destino, index=False)\n",
    "\n",
    "archivos_modificados = ['bch.csv', 'bitcoin.csv', 'bnb.csv', 'etherium.csv', 'solana.csv']\n",
    "for archivo in archivos_modificados:\n",
    "    ruta_origen = f'COLUMNA_NOMBRE/{archivo}'\n",
    "    estandarizar_nombres_columnas(ruta_origen, archivo)\n",
    "\n"
   ]
  },
  {
   "cell_type": "markdown",
   "id": "a9a30d7e",
   "metadata": {},
   "source": [
    "UNIR DOCUMENTOS"
   ]
  },
  {
   "cell_type": "code",
   "execution_count": null,
   "id": "53e3d60d",
   "metadata": {},
   "outputs": [],
   "source": [
    "archivos_estandarizados = ['bch.csv', 'bitcoin.csv', 'bnb.csv', 'etherium.csv', 'solana.csv']\n",
    "\n",
    "# Leer todos los archivos CSV y concatenarlos\n",
    "df_combinado = pd.concat([pd.read_csv(f'NOMBRES_ESTANDARIZADOS/{archivo}') for archivo in archivos_estandarizados], ignore_index=True)\n",
    "\n",
    "# Guardar el DataFrame combinado en la carpeta UNIDOS\n",
    "df_combinado.to_csv('ARCHIVOS_UNIDOS/archivos_combinados.csv', index=False)"
   ]
  },
  {
   "cell_type": "markdown",
   "id": "7fe88fef",
   "metadata": {},
   "source": [
    "ATOMIZAR EL ARCHIVO"
   ]
  },
  {
   "cell_type": "code",
   "execution_count": 16,
   "id": "b61022df",
   "metadata": {},
   "outputs": [],
   "source": [
    "# Leer el archivo combinado\n",
    "df = pd.read_csv('ARCHIVOS_UNIDOS/archivos_combinados.csv')\n",
    "\n",
    "# Eliminar \"p. m.\" y \"a. m.\" de la columna fecha_hora\n",
    "df['fecha_hora'] = df['fecha_hora'].str.replace(r'\\s(p\\. m\\.|a\\. m\\.)', '', regex=True)\n",
    "\n",
    "# Convertir la columna fecha_hora a tipo datetime \n",
    "df['fecha_hora'] = pd.to_datetime(df['fecha_hora'])\n",
    "\n",
    "# Crear nuevas columnas separadas\n",
    "df['Anio'] = df['fecha_hora'].dt.year\n",
    "df['Mes'] = df['fecha_hora'].dt.month\n",
    "df['Dia'] = df['fecha_hora'].dt.day\n",
    "df['Hora'] = df['fecha_hora'].dt.strftime('%H:%M')\n",
    "\n",
    "# Eliminar la columna fecha_hora\n",
    "df.drop(columns=['fecha_hora'], inplace=True)\n",
    "\n",
    "# Convertir todos los nombres de columnas a mayúsculas\n",
    "df.columns = df.columns.str.upper()\n",
    "\n",
    "# Guardar el DataFrame actualizado en un nuevo archivo\n",
    "df.to_csv('ARCHIVO_ATOMICO/ARCHIVO_ATOMIZADO.csv', index=False)\n"
   ]
  }
 ],
 "metadata": {
  "kernelspec": {
   "display_name": "Python 3",
   "language": "python",
   "name": "python3"
  },
  "language_info": {
   "codemirror_mode": {
    "name": "ipython",
    "version": 3
   },
   "file_extension": ".py",
   "mimetype": "text/x-python",
   "name": "python",
   "nbconvert_exporter": "python",
   "pygments_lexer": "ipython3",
   "version": "3.12.4"
  }
 },
 "nbformat": 4,
 "nbformat_minor": 5
}
