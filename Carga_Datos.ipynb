{
 "cells": [
  {
   "cell_type": "markdown",
   "id": "3a3213f2",
   "metadata": {},
   "source": [
    "### __Conexion a la Base de Datos__"
   ]
  },
  {
   "cell_type": "code",
   "execution_count": 7,
   "id": "a89291fa",
   "metadata": {},
   "outputs": [
    {
     "name": "stdout",
     "output_type": "stream",
     "text": [
      "Conexion Exitosa\n"
     ]
    }
   ],
   "source": [
    "import mysql.connector\n",
    "import pandas as pd\n",
    "\n",
    "#& Establecemos la conexion a la base de datosS\n",
    "\n",
    "conn = mysql.connector.connect(\n",
    "    host=\"localhost\",\n",
    "    user=\"root\",         \n",
    "    password=\"Ha1Da40318\",\n",
    "    charset='utf8mb4',\n",
    "    use_unicode=True\n",
    ")\n",
    "\n",
    "conexion = conn.cursor()\n",
    "print(\"Conexion Exitosa\")\n"
   ]
  },
  {
   "cell_type": "markdown",
   "id": "03725e3d",
   "metadata": {},
   "source": [
    "### __Creacion de la Base de DAtos__"
   ]
  },
  {
   "cell_type": "code",
   "execution_count": 9,
   "id": "a3c645b3",
   "metadata": {},
   "outputs": [
    {
     "name": "stdout",
     "output_type": "stream",
     "text": [
      "Base de Datos Creada Exitosamente\n"
     ]
    }
   ],
   "source": [
    "\n",
    "#? Creamos la base de datos si no existe\n",
    "conexion.execute(\"CREATE DATABASE IF NOT EXISTS dss_criptomonedas\")\n",
    "conexion.execute(\"USE dss_criptomonedas\")\n",
    "\n",
    "print(\"Base de Datos Creada Exitosamente\")"
   ]
  },
  {
   "cell_type": "markdown",
   "id": "94bdd9e9",
   "metadata": {},
   "source": [
    "### __Creación de las tablas del Modelo Constelación__"
   ]
  },
  {
   "cell_type": "markdown",
   "id": "e0914681",
   "metadata": {},
   "source": [
    "#### _Creación Tabla Dia Semana_"
   ]
  },
  {
   "cell_type": "code",
   "execution_count": 3,
   "id": "10ac13ff",
   "metadata": {},
   "outputs": [],
   "source": [
    "conexion.execute(\"\"\"\n",
    "CREATE TABLE IF NOT EXISTS DiaSemana (\n",
    "    idDiaSemana INT AUTO_INCREMENT PRIMARY KEY,\n",
    "    NombreDia VARCHAR(15) NOT NULL\n",
    ");\n",
    "\"\"\")\n"
   ]
  },
  {
   "cell_type": "markdown",
   "id": "1c20e611",
   "metadata": {},
   "source": [
    "#### _Creación Tabla Fecha_"
   ]
  },
  {
   "cell_type": "code",
   "execution_count": 4,
   "id": "493eb06f",
   "metadata": {},
   "outputs": [],
   "source": [
    "conexion.execute(\"\"\"\n",
    "CREATE TABLE IF NOT EXISTS Fecha (\n",
    "    idFecha INT AUTO_INCREMENT PRIMARY KEY,\n",
    "    idDiaSemana INT,\n",
    "    Fecha DATE NOT NULL,\n",
    "    Hora TIME NOT NULL,\n",
    "    Mes VARCHAR(20) NOT NULL,\n",
    "    Año INT NOT NULL,\n",
    "    Semestre INT NOT NULL,\n",
    "    Trimestre INT NOT NULL,\n",
    "    FOREIGN KEY (idDiaSemana) REFERENCES DiaSemana(idDiaSemana)\n",
    ");\n",
    "\"\"\")\n"
   ]
  },
  {
   "cell_type": "markdown",
   "id": "1e53b428",
   "metadata": {},
   "source": [
    "#### _Creación Tabla Moneda_"
   ]
  },
  {
   "cell_type": "code",
   "execution_count": 5,
   "id": "dfaf30cd",
   "metadata": {},
   "outputs": [],
   "source": [
    "conexion.execute(\"\"\"\n",
    "CREATE TABLE IF NOT EXISTS Moneda (\n",
    "    idMoneda INT AUTO_INCREMENT PRIMARY KEY,\n",
    "    PrecioInicial DECIMAL(18,4) NOT NULL,\n",
    "    Nombre VARCHAR(30) NOT NULL UNIQUE,\n",
    "    Simbolo VARCHAR(5) NOT NULL\n",
    ");\n",
    "\"\"\")"
   ]
  },
  {
   "cell_type": "markdown",
   "id": "46260292",
   "metadata": {},
   "source": [
    "#### _Creación Tabla Moneda_"
   ]
  },
  {
   "cell_type": "code",
   "execution_count": 6,
   "id": "6f29a18d",
   "metadata": {},
   "outputs": [],
   "source": [
    "conexion.execute(\"\"\"\n",
    "CREATE TABLE IF NOT EXISTS Moneda (\n",
    "    idMoneda INT AUTO_INCREMENT PRIMARY KEY,\n",
    "    PrecioInicial DECIMAL(18,4) NOT NULL,\n",
    "    Nombre VARCHAR(30) NOT NULL UNIQUE,\n",
    "    Simbolo VARCHAR(5) NOT NULL\n",
    ");\n",
    "\"\"\")"
   ]
  },
  {
   "cell_type": "markdown",
   "id": "0e190790",
   "metadata": {},
   "source": [
    "#### _Creación Tabla Transaccion_"
   ]
  },
  {
   "cell_type": "code",
   "execution_count": 8,
   "id": "9cbfb0c8",
   "metadata": {},
   "outputs": [],
   "source": [
    "conexion.execute(\"\"\"\n",
    "CREATE TABLE IF NOT EXISTS Transaccion (\n",
    "    idTransaccion INT AUTO_INCREMENT PRIMARY KEY,\n",
    "    idFecha INT,\n",
    "    idMoneda INT,\n",
    "    Precio_Apertura DECIMAL(18,4) NOT NULL,\n",
    "    Precio_Cierre DECIMAL(18,4) NOT NULL,\n",
    "    Precio_Maximo DECIMAL(18,4) NOT NULL,\n",
    "    Precio_Minimo DECIMAL(18,4) NOT NULL,\n",
    "    Volumen DECIMAL(18,4) NOT NULL,\n",
    "    FOREIGN KEY (idFecha) REFERENCES Fecha(idFecha),\n",
    "    FOREIGN KEY (idMoneda) REFERENCES Moneda(idMoneda)\n",
    ");\n",
    "\"\"\")"
   ]
  },
  {
   "cell_type": "markdown",
   "id": "d685d36c",
   "metadata": {},
   "source": [
    "#### _Creación Tabla Tendencia_"
   ]
  },
  {
   "cell_type": "code",
   "execution_count": 7,
   "id": "a4fb7452",
   "metadata": {},
   "outputs": [
    {
     "name": "stdout",
     "output_type": "stream",
     "text": [
      "Creación de Tablas terminada con éxito\n"
     ]
    }
   ],
   "source": [
    "conexion.execute(\"\"\"\n",
    "CREATE TABLE IF NOT EXISTS Tendencia (\n",
    "    idTendencia INT AUTO_INCREMENT PRIMARY KEY,\n",
    "    idFecha INT,\n",
    "    idMoneda INT,\n",
    "    Variación DECIMAL(18,4) NOT NULL,\n",
    "    PrecioPromedio DECIMAL(18,4) NOT NULL,\n",
    "    FOREIGN KEY (idFecha) REFERENCES Fecha(idFecha),\n",
    "    FOREIGN KEY (idMoneda) REFERENCES Moneda(idMoneda)\n",
    ");\n",
    "\"\"\")\n",
    "\n",
    "print(\"Creación de Tablas terminada con éxito\")"
   ]
  },
  {
   "cell_type": "markdown",
   "id": "76bdbb17",
   "metadata": {},
   "source": [
    "### __Carda de Datos desde el Archivo CSV Limpio__"
   ]
  },
  {
   "cell_type": "markdown",
   "id": "2e436540",
   "metadata": {},
   "source": [
    "### _Lectura del archivo de datos atomizados_"
   ]
  },
  {
   "cell_type": "code",
   "execution_count": 3,
   "id": "abd672d0",
   "metadata": {},
   "outputs": [],
   "source": [
    "\n",
    "df = pd.read_csv(\"DATA/data_limpia/ARCHIVO_ATOMICO/ARCHIVO_ATOMIZADO.csv\")\n"
   ]
  },
  {
   "cell_type": "markdown",
   "id": "13978049",
   "metadata": {},
   "source": [
    "### _Verificamos las columnas del dataset_"
   ]
  },
  {
   "cell_type": "code",
   "execution_count": 4,
   "id": "dd7bc199",
   "metadata": {},
   "outputs": [
    {
     "name": "stdout",
     "output_type": "stream",
     "text": [
      "Columnas ['PRECIO_APERTURA', 'PRECIO_MAXIMO', 'PRECIO_MINIMO', 'PRECIO_CIERRE', 'VOLUMEN', 'MONEDA', 'ANIO', 'MES', 'DIA', 'HORA']\n",
      "   PRECIO_APERTURA  PRECIO_MAXIMO  PRECIO_MINIMO  PRECIO_CIERRE    VOLUMEN  \\\n",
      "0           324.08         325.99         323.99         325.40  861.02593   \n",
      "1           325.42         326.32         325.13         325.91  419.92816   \n",
      "2           325.84         326.27         325.00         325.75  360.32330   \n",
      "\n",
      "  MONEDA  ANIO  MES  DIA   HORA  \n",
      "0    BCH  2020    3    3  17:15  \n",
      "1    BCH  2020    3    3  17:30  \n",
      "2    BCH  2020    3    3  17:45  \n"
     ]
    }
   ],
   "source": [
    "print(\"Columnas\", df.columns.tolist())\n",
    "print(df.head(3))\n"
   ]
  },
  {
   "cell_type": "markdown",
   "id": "344ba517",
   "metadata": {},
   "source": [
    "#### _Iniciamos el Proceso de Carga de los Datos a las Tablas_"
   ]
  },
  {
   "cell_type": "markdown",
   "id": "462e15c4",
   "metadata": {},
   "source": [
    "##### Formateamos las columnas del dataset"
   ]
  },
  {
   "cell_type": "code",
   "execution_count": 5,
   "id": "21cd5c40",
   "metadata": {},
   "outputs": [
    {
     "name": "stdout",
     "output_type": "stream",
     "text": [
      "['Tuesday' 'Wednesday' 'Thursday' 'Friday' 'Saturday' 'Sunday' 'Monday']\n"
     ]
    }
   ],
   "source": [
    "from datetime import datetime\n",
    "\n",
    "#? Convertimosa a mayusculas los registros del nombre de las monedas\n",
    "df['MONEDA'] = df['MONEDA'].str.upper()\n",
    "\n",
    "#? Formateamos a dos digitos el valor del mes y dia\n",
    "df['MES'] = df['MES'].astype(str).str.zfill(2)\n",
    "df['DIA'] = df['DIA'].astype(str).str.zfill(2)\n",
    "\n",
    "#? Crearmoms una columna de fecha y obtene,ps nombre del día\n",
    "df['FECHA'] = pd.to_datetime(df['ANIO'].astype(str) + '-' + df['MES'] + '-' + df['DIA'])\n",
    "df['NOMBRE_DIA'] = df['FECHA'].dt.day_name()\n",
    "\n",
    "#? Convertimos la hora a tipo TIME\n",
    "df['HORA'] = pd.to_datetime(df['HORA'], format=\"%H:%M\").dt.time\n",
    "\n",
    "print(df['NOMBRE_DIA'].unique())\n"
   ]
  },
  {
   "cell_type": "markdown",
   "id": "976b541b",
   "metadata": {},
   "source": [
    "##### Insertamos Dias de la Semana Unicos"
   ]
  },
  {
   "cell_type": "code",
   "execution_count": 11,
   "id": "44351578",
   "metadata": {},
   "outputs": [
    {
     "name": "stdout",
     "output_type": "stream",
     "text": [
      "Días traducidos: ['Martes' 'Miércoles' 'Jueves' 'Viernes' 'Sábado' 'Domingo' 'Lunes']\n",
      "Insertando día: Lunes\n",
      "Insertando día: Martes\n",
      "Insertando día: Miércoles\n",
      "Insertando día: Jueves\n",
      "Insertando día: Viernes\n",
      "Insertando día: Sábado\n",
      "Insertando día: Domingo\n"
     ]
    }
   ],
   "source": [
    "\n",
    "#? Creamos una columna con nombre del día en inglés\n",
    "df['NOMBRE_DIA_EN'] = df['FECHA'].dt.day_name()\n",
    "\n",
    "#? Definimos un Diccionario de traducción\n",
    "dias_es = {\n",
    "    'Monday': 'Lunes',\n",
    "    'Tuesday': 'Martes',\n",
    "    'Wednesday': 'Miércoles',\n",
    "    'Thursday': 'Jueves',\n",
    "    'Friday': 'Viernes',\n",
    "    'Saturday': 'Sábado',\n",
    "    'Sunday': 'Domingo'\n",
    "}\n",
    "\n",
    "#? Traducimos al español\n",
    "df['NOMBRE_DIA'] = df['NOMBRE_DIA_EN'].map(dias_es)\n",
    "\n",
    "#?Ordenamos los dias a insertar\n",
    "orden_dias = ['Lunes', 'Martes', 'Miércoles', 'Jueves', 'Viernes', 'Sábado', 'Domingo']\n",
    "\n",
    "dias_a_insertar = []\n",
    "\n",
    "\n",
    "#? Obtenemos los días únicos presentes en el DataFrame\n",
    "dias_unicos = df['NOMBRE_DIA'].unique()\n",
    "\n",
    "for dia in orden_dias:\n",
    "    if dia in dias_unicos:\n",
    "        dias_a_insertar.append(dia)\n",
    "\n",
    "\n",
    "#? Verificamos y mostramos\n",
    "print(\"Días traducidos:\", dias_unicos)\n",
    "\n",
    "#? Insertamos los registros en la tabla\n",
    "for dia in dias_a_insertar:\n",
    "    try:\n",
    "        dia_str = str(dia).strip()[:15]\n",
    "        print(f\"Insertando día: {dia_str}\")\n",
    "        conexion.execute(\"INSERT IGNORE INTO DiaSemana (NombreDia) VALUES (%s)\", (dia_str,))\n",
    "    except Exception as e:\n",
    "        print(f\"Error insertando '{dia_str}': {e}\")\n",
    "        \n",
    "conn.commit()\n"
   ]
  },
  {
   "cell_type": "markdown",
   "id": "ce27212c",
   "metadata": {},
   "source": [
    "##### Insertamos Monedas y valores asociados unicas"
   ]
  },
  {
   "cell_type": "code",
   "execution_count": 12,
   "id": "8b7ffc34",
   "metadata": {},
   "outputs": [
    {
     "name": "stdout",
     "output_type": "stream",
     "text": [
      "Insertando BCH\n",
      "Insertando BITCOIN\n",
      "Insertando BNB\n",
      "Insertando ETHEREUM\n",
      "Insertando SOLANA\n"
     ]
    }
   ],
   "source": [
    "monedas = df['MONEDA'].dropna().unique()\n",
    "for moneda in monedas:\n",
    "    print(f\"Insertando {moneda}\")"
   ]
  },
  {
   "cell_type": "code",
   "execution_count": 14,
   "id": "cb62976e",
   "metadata": {},
   "outputs": [
    {
     "name": "stdout",
     "output_type": "stream",
     "text": [
      "Insertando Bitcoin Cash (BCH), precio inicial 324.08\n",
      "Insertando Bitcoin (BTC), precio inicial 8698.95\n",
      "Insertando Binance Coin (BNB), precio inicial 19.4093\n",
      "Insertando Ethereum (ETH), precio inicial 220.08\n",
      "Insertando Solana (SOL), precio inicial 2.85\n"
     ]
    }
   ],
   "source": [
    "\n",
    "#? Diccionario para mapear los identificadores de la cripto con (Nombre completo, Símbolo)\n",
    "mapa_nombre_simbolo = {\n",
    "    'BCH': ('Bitcoin Cash', 'BCH'),\n",
    "    'BITCOIN': ('Bitcoin', 'BTC'),\n",
    "    'BNB': ('Binance Coin', 'BNB'),\n",
    "    'ETHEREUM': ('Ethereum', 'ETH'),\n",
    "    'SOLANA': ('Solana', 'SOL')\n",
    "}\n",
    "\n",
    "#? Insertamos monedas únicas (usamos nombre completo y símbolo)\n",
    "monedas = df['MONEDA'].dropna().unique()\n",
    "for identificador in monedas:\n",
    "    #? Obtenemos nombre y símbolo desde el diccionario, o usar el identificador como ambos por defecto\n",
    "    nombre, simbolo = mapa_nombre_simbolo.get(identificador, (identificador.title(), identificador))\n",
    "    \n",
    "    #? Obtenemos el primer precio de apertura como precio inicial\n",
    "    precio_inicial = df[df['MONEDA'] == identificador]['PRECIO_APERTURA'].iloc[0]\n",
    "\n",
    "    #? Insertar en la tabla Moneda\n",
    "    conexion.execute(\n",
    "        \"INSERT IGNORE INTO Moneda (Nombre, Simbolo, PrecioInicial) VALUES (%s, %s, %s)\",\n",
    "        (nombre, simbolo, precio_inicial)\n",
    "    )\n",
    "    print(f\"Insertando {nombre} ({simbolo}), precio inicial {precio_inicial}\")\n",
    "conn.commit()"
   ]
  },
  {
   "cell_type": "markdown",
   "id": "4c268008",
   "metadata": {},
   "source": [
    "##### Insertamos Fechas Unicas"
   ]
  },
  {
   "cell_type": "code",
   "execution_count": null,
   "id": "c6827791",
   "metadata": {},
   "outputs": [],
   "source": [
    "from datetime import time\n",
    "#?Realizamos una conexión de escritura\n",
    "conn_escritura = mysql.connector.connect(\n",
    "    host=\"localhost\",\n",
    "    user=\"root\",\n",
    "    password=\"Ha1Da40318\",\n",
    "    database=\"dss_criptomonedas\",\n",
    "    charset='utf8mb4',\n",
    "    use_unicode=True\n",
    ")\n",
    "\n",
    "#? Obtenemos su cursor\n",
    "cursor_escritura = conn_escritura.cursor()\n",
    "\n",
    "#? Creamos una conexion secundaria solo para lectura\n",
    "conn_lectura = mysql.connector.connect(\n",
    "    host=\"localhost\",\n",
    "    user=\"root\",\n",
    "    password=\"Ha1Da40318\",\n",
    "    database=\"dss_criptomonedas\",\n",
    "    charset='utf8mb4',\n",
    "    use_unicode=True\n",
    ")\n",
    "cursor_lectura = conn_lectura.cursor(buffered=True)\n",
    "\n",
    "#? Eliminamos los valores repetidos para obtener fechas unicas de la dimensión\n",
    "#? que se pueden asociar a los hechos\n",
    "\n",
    "fechas = df[['FECHA', 'HORA', 'ANIO', 'MES', 'NOMBRE_DIA']].drop_duplicates()\n",
    "\n",
    "for _, row in fechas.iterrows():\n",
    "    #? Extraemos la fecha y la convertimos a tipo date\n",
    "    fecha = row['FECHA']\n",
    "    if isinstance(fecha, str):\n",
    "        fecha = datetime.strptime(fecha, '%Y-%m-%d').date()\n",
    "    \n",
    "    #? Extraemos la hora directamente\n",
    "    hora = row['HORA']\n",
    "    \n",
    "    #? Calculamos el nombre del mes\n",
    "    mes_nombre = datetime.strptime(str(fecha.month), \"%m\").strftime(\"%B\")\n",
    "    \n",
    "    #? Extraemos el año\n",
    "    año = row['ANIO']\n",
    "    \n",
    "    #? Calculamos el semestre: 1 si el mes es <= 6, si no 2\n",
    "    semestre = 1 if fecha.month <= 6 else 2\n",
    "    \n",
    "    #? Calculamos el trimestre (1-4) en función del mes\n",
    "    trimestre = (fecha.month - 1) // 3 + 1\n",
    "\n",
    "    #? Consultamos el id del día de la semana en la base de datos usando cursor de lectura\n",
    "    cursor_lectura.execute(\"SELECT idDiaSemana FROM DiaSemana WHERE NombreDia = %s\", (row['NOMBRE_DIA'],))\n",
    "    resultado = cursor_lectura.fetchone()\n",
    "\n",
    "    #? Si se encontramos el id del día, lo insertamos en el registro en la tabla Fecha\n",
    "    if resultado:\n",
    "        id_dia = resultado[0]\n",
    "\n",
    "        #*Insertamos la fecha con el cursor de escritura\n",
    "        cursor_escritura.execute(\"\"\"\n",
    "            INSERT IGNORE INTO Fecha (idDiaSemana, Fecha, Hora, Mes, Año, Semestre, Trimestre)\n",
    "            VALUES (%s, %s, %s, %s, %s, %s, %s)\n",
    "        \"\"\", (id_dia, fecha, hora, mes_nombre, año, semestre, trimestre))\n",
    "        conn_escritura.commit()\n",
    "    else:\n",
    "        print(f\"No se encontró idDiaSemana para: {row['NOMBRE_DIA']}\")\n"
   ]
  },
  {
   "cell_type": "code",
   "execution_count": 34,
   "id": "0b46bb0e",
   "metadata": {},
   "outputs": [],
   "source": [
    "\n",
    "#! Cerramos cursores y conexiones\n",
    "cursor_escritura.close()\n",
    "conn_escritura.close()\n",
    "cursor_lectura.close()\n",
    "conn_lectura.close()"
   ]
  },
  {
   "cell_type": "markdown",
   "id": "f967c95a",
   "metadata": {},
   "source": [
    "#### Insertamos los registros de todas las Transacciones en la BD"
   ]
  },
  {
   "cell_type": "code",
   "execution_count": 40,
   "id": "c36171e9",
   "metadata": {},
   "outputs": [
    {
     "name": "stdout",
     "output_type": "stream",
     "text": [
      "Se insertaron 509843 transacciones correctamente.\n"
     ]
    }
   ],
   "source": [
    "from datetime import time\n",
    "\n",
    "# Cursores para consultas\n",
    "cursor_fechas = conn.cursor()\n",
    "cursor_monedas = conn.cursor()\n",
    "cursor_insert = conn.cursor()\n",
    "\n",
    "#? Obtener y mapear fechas (Fecha, Hora) → idFecha\n",
    "cursor_fechas.execute(\"SELECT idFecha, Fecha, Hora FROM Fecha\")\n",
    "fechas_result = cursor_fechas.fetchall()\n",
    "\n",
    "def convertir_tiempo(hora):\n",
    "    if isinstance(hora, time):\n",
    "        return hora.strftime(\"%H:%M:%S\")\n",
    "    else:\n",
    "        return time(hour=hora.seconds // 3600, minute=(hora.seconds // 60) % 60, second=hora.seconds % 60).strftime(\"%H:%M:%S\")\n",
    "\n",
    "map_fechas = {\n",
    "    (f.strftime(\"%Y-%m-%d\"), convertir_tiempo(h)): i\n",
    "    for i, f, h in fechas_result\n",
    "}\n",
    "\n",
    "#? Obtener y mapear monedas: MONEDA → idMoneda\n",
    "cursor_monedas.execute(\"SELECT idMoneda, Nombre FROM Moneda\")\n",
    "map_monedas = {nombre.upper(): id_ for id_, nombre in cursor_monedas.fetchall()}\n",
    "\n",
    "#? Insertar transacciones\n",
    "from datetime import datetime\n",
    "import pandas as pd\n",
    "\n",
    "# Cargar y preparar el DataFrame (usa esto solo si no lo has hecho antes)\n",
    "df = pd.read_csv(\"DATA/data_limpia/ARCHIVO_ATOMICO/ARCHIVO_ATOMIZADO.csv\")\n",
    "df['MONEDA'] = df['MONEDA'].str.upper()\n",
    "df['MES'] = df['MES'].astype(str).str.zfill(2)\n",
    "df['DIA'] = df['DIA'].astype(str).str.zfill(2)\n",
    "df['FECHA'] = pd.to_datetime(df['ANIO'].astype(str) + '-' + df['MES'] + '-' + df['DIA'])\n",
    "df['HORA'] = pd.to_datetime(df['HORA'], format=\"%H:%M\").dt.time\n",
    "\n",
    "# Contador de inserciones\n",
    "contador = 0\n",
    "\n",
    "for _, row in df.iterrows():\n",
    "    key_fecha = (row['FECHA'].strftime(\"%Y-%m-%d\"), row['HORA'].strftime(\"%H:%M:%S\"))\n",
    "    id_fecha = map_fechas.get(key_fecha)\n",
    "    id_moneda = map_monedas.get(row['MONEDA'])\n",
    "\n",
    "    if id_fecha and id_moneda:\n",
    "        cursor_insert.execute(\"\"\"\n",
    "            INSERT INTO Transaccion (\n",
    "                idFecha, idMoneda,\n",
    "                Precio_Apertura, Precio_Cierre,\n",
    "                Precio_Maximo, Precio_Minimo, Volumen\n",
    "            ) VALUES (%s, %s, %s, %s, %s, %s, %s)\n",
    "        \"\"\", (\n",
    "            id_fecha, id_moneda,\n",
    "            row['PRECIO_APERTURA'], row['PRECIO_CIERRE'],\n",
    "            row['PRECIO_MAXIMO'], row['PRECIO_MINIMO'], row['VOLUMEN']\n",
    "        ))\n",
    "        contador += 1\n",
    "\n",
    "conn.commit()\n",
    "print(f\"Se insertaron {contador} transacciones correctamente.\")\n"
   ]
  }
 ],
 "metadata": {
  "kernelspec": {
   "display_name": ".venv",
   "language": "python",
   "name": "python3"
  },
  "language_info": {
   "codemirror_mode": {
    "name": "ipython",
    "version": 3
   },
   "file_extension": ".py",
   "mimetype": "text/x-python",
   "name": "python",
   "nbconvert_exporter": "python",
   "pygments_lexer": "ipython3",
   "version": "3.12.1"
  }
 },
 "nbformat": 4,
 "nbformat_minor": 5
}
